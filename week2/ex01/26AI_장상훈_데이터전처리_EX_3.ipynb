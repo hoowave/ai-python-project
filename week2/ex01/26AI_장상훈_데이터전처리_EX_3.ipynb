{
 "cells": [
  {
   "cell_type": "code",
   "execution_count": null,
   "id": "b7a34f8a",
   "metadata": {},
   "outputs": [
    {
     "name": "stdout",
     "output_type": "stream",
     "text": [
      "원본 데이터 개수: 53940\n",
      "하한 (Lower Bound): -0.5599999999999999\n",
      "상한 (Upper Bound): 2.0\n"
     ]
    }
   ],
   "source": [
    "import pandas as pd\n",
    "\n",
    "# 1. 데이터 셋 로드\n",
    "df = pd.read_csv('diamonds.csv')\n",
    "\n",
    "print(\"원본 데이터 개수:\", len(df))\n",
    "\n",
    "# carat 열 기준으로 IQR 계산\n",
    "Q1 = df['carat'].quantile(0.25)\n",
    "Q3 = df['carat'].quantile(0.75)\n",
    "IQR = Q3 - Q1\n",
    "lower_bound = Q1 - 1.5 * IQR\n",
    "upper_bound = Q3 + 1.5 * IQR\n",
    "\n",
    "print(f\"하한 (Lower Bound): {lower_bound}\")\n",
    "print(f\"상한 (Upper Bound): {upper_bound}\")\n",
    "\n",
    "# 이상치 제거\n",
    "df_clean = df[(df['carat'] >= lower_bound) & (df['carat'] <= upper_bound)]\n",
    "print(\"이상치 제거 후 데이터 개수:\", len(df_clean))"
   ]
  }
 ],
 "metadata": {
  "kernelspec": {
   "display_name": "Python 3",
   "language": "python",
   "name": "python3"
  },
  "language_info": {
   "codemirror_mode": {
    "name": "ipython",
    "version": 3
   },
   "file_extension": ".py",
   "mimetype": "text/x-python",
   "name": "python",
   "nbconvert_exporter": "python",
   "pygments_lexer": "ipython3",
   "version": "3.13.4"
  }
 },
 "nbformat": 4,
 "nbformat_minor": 5
}
