{
 "cells": [
  {
   "cell_type": "code",
   "execution_count": null,
   "id": "b7a34f8a",
   "metadata": {},
   "outputs": [
    {
     "name": "stdout",
     "output_type": "stream",
     "text": [
      "원본 데이터 컬럼\n",
      "Index(['fixed acidity', 'volatile acidity', 'citric acid', 'residual sugar',\n",
      "       'chlorides', 'free sulfur dioxide', 'total sulfur dioxide', 'density',\n",
      "       'pH', 'sulphates', 'alcohol', 'quality'],\n",
      "      dtype='object')\n",
      "스케일링 대상 열\n",
      "   fixed acidity  volatile acidity  citric acid  residual sugar  chlorides\n",
      "0            7.4              0.70         0.00             1.9      0.076\n",
      "1            7.8              0.88         0.00             2.6      0.098\n",
      "2            7.8              0.76         0.04             2.3      0.092\n",
      "3           11.2              0.28         0.56             1.9      0.075\n",
      "4            7.4              0.70         0.00             1.9      0.076\n",
      "\\표준화된 데이터\n",
      "   fixed acidity  volatile acidity  citric acid  residual sugar  chlorides\n",
      "0      -0.528360          0.961877    -1.391472       -0.453218  -0.243707\n",
      "1      -0.298547          1.967442    -1.391472        0.043416   0.223875\n",
      "2      -0.298547          1.297065    -1.186070       -0.169427   0.096353\n",
      "3       1.654856         -1.384443     1.484154       -0.453218  -0.264960\n",
      "4      -0.528360          0.961877    -1.391472       -0.453218  -0.243707\n"
     ]
    }
   ],
   "source": [
    "from sklearn.preprocessing import StandardScaler\n",
    "\n",
    "import pandas as pd\n",
    "\n",
    "# 1. 데이터 셋 로드\n",
    "df = pd.read_csv('winequality-red.csv')\n",
    "\n",
    "print(\"원본 데이터 컬럼\")\n",
    "print(df.columns)\n",
    "\n",
    "# 스케일링 대상 열 선택\n",
    "features = ['fixed acidity', 'volatile acidity', 'citric acid', 'residual sugar', 'chlorides']\n",
    "X = df[features]\n",
    "print(\"스케일링 대상 열\")\n",
    "print(X.head())\n",
    "\n",
    "# StandardScaler 표준화\n",
    "scaler = StandardScaler()\n",
    "X_scaled = scaler.fit_transform(X)\n",
    "\n",
    "# DataFrame으로 보기 좋게 변환\n",
    "X_scaled_df = pd.DataFrame(X_scaled, columns=features)\n",
    "\n",
    "print(\"표준화된 데이터\")\n",
    "print(X_scaled_df.head())"
   ]
  }
 ],
 "metadata": {
  "kernelspec": {
   "display_name": "Python 3",
   "language": "python",
   "name": "python3"
  },
  "language_info": {
   "codemirror_mode": {
    "name": "ipython",
    "version": 3
   },
   "file_extension": ".py",
   "mimetype": "text/x-python",
   "name": "python",
   "nbconvert_exporter": "python",
   "pygments_lexer": "ipython3",
   "version": "3.13.4"
  }
 },
 "nbformat": 4,
 "nbformat_minor": 5
}
