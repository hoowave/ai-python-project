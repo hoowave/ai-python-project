{
 "cells": [
  {
   "cell_type": "code",
   "execution_count": null,
   "id": "b7a34f8a",
   "metadata": {},
   "outputs": [
    {
     "name": "stdout",
     "output_type": "stream",
     "text": [
      "결측치 확인\n",
      "PassengerId    0\n",
      "Survived       0\n",
      "Pclass         0\n",
      "Name           0\n",
      "Sex            0\n",
      "Age            0\n",
      "SibSp          0\n",
      "Parch          0\n",
      "Ticket         0\n",
      "Fare           0\n",
      "Embarked       0\n",
      "dtype: int64\n",
      "전체 결측치 총합\n",
      "\n",
      "0\n"
     ]
    }
   ],
   "source": [
    "import pandas as pd\n",
    "\n",
    "# 1. 데이터 셋 로드\n",
    "df = pd.read_csv('train.csv')\n",
    "\n",
    "# 2. Age 열의 결측치는 평균값으로 대체\n",
    "df['Age'] = df['Age'].fillna(df['Age'].mean())\n",
    "\n",
    "# 3. Embarked 열의 결측치는 최빈값으로 대체\n",
    "df['Embarked'] = df['Embarked'].fillna(df['Embarked'].mode()[0])\n",
    "\n",
    "# 4. Cabin 열 삭제\n",
    "df = df.drop(columns=['Cabin'])\n",
    "\n",
    "# 5. 결측치 확인\n",
    "print('결측치 확인')\n",
    "print(df.isnull().sum())\n",
    "print('')\n",
    "print('전체 결측치 총합')\n",
    "print(df.isnull().sum().sum())"
   ]
  }
 ],
 "metadata": {
  "kernelspec": {
   "display_name": "Python 3",
   "language": "python",
   "name": "python3"
  },
  "language_info": {
   "codemirror_mode": {
    "name": "ipython",
    "version": 3
   },
   "file_extension": ".py",
   "mimetype": "text/x-python",
   "name": "python",
   "nbconvert_exporter": "python",
   "pygments_lexer": "ipython3",
   "version": "3.13.4"
  }
 },
 "nbformat": 4,
 "nbformat_minor": 5
}
