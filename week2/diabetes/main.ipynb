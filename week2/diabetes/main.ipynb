{
 "cells": [
  {
   "cell_type": "code",
   "execution_count": 1,
   "id": "a9971a47",
   "metadata": {},
   "outputs": [
    {
     "name": "stdout",
     "output_type": "stream",
     "text": [
      "각 열의 NaN 개수:\n",
      "Pregnancies                 0\n",
      "Glucose                     0\n",
      "BloodPressure               0\n",
      "SkinThickness               0\n",
      "Insulin                     0\n",
      "BMI                         0\n",
      "DiabetesPedigreeFunction    0\n",
      "Age                         0\n",
      "Outcome                     0\n",
      "dtype: int64\n",
      "\n",
      "각 열의 0 값 개수:\n",
      "Pregnancies                 111\n",
      "Glucose                       1\n",
      "BloodPressure                 1\n",
      "SkinThickness                 2\n",
      "Insulin                       1\n",
      "BMI                           3\n",
      "DiabetesPedigreeFunction      1\n",
      "Age                          63\n",
      "Outcome                     500\n",
      "dtype: int64\n",
      "\n",
      "Outcome 별 Glucose 평균:\n",
      "Outcome\n",
      "0    0.430388\n",
      "1    0.633326\n",
      "Name: Glucose, dtype: float64\n",
      "\n",
      "전처리 완료 후 데이터프레임 상위 5개:\n",
      "   Pregnancies   Glucose  BloodPressure  SkinThickness   Insulin       BMI  \\\n",
      "0     0.352941  0.670968       0.489796       0.636364  0.285379  0.314928   \n",
      "1     0.058824  0.264516       0.428571       0.500000  0.285379  0.171779   \n",
      "2     0.470588  0.896774       0.408163       0.503487  0.285379  0.104294   \n",
      "3     0.058824  0.290323       0.428571       0.363636  0.161290  0.202454   \n",
      "4     0.000000  0.600000       0.163265       0.636364  0.310484  0.509202   \n",
      "\n",
      "   DiabetesPedigreeFunction       Age  Outcome  \n",
      "0                  0.234415  0.483333        1  \n",
      "1                  0.116567  0.166667        0  \n",
      "2                  0.253629  0.183333        1  \n",
      "3                  0.038002  0.000000        0  \n",
      "4                  0.943638  0.200000        1  \n"
     ]
    }
   ],
   "source": [
    "from application.service.plt_service import PltService\n",
    "\n",
    "############### Applcation Main ###############\n",
    "# 요구사항에 따라 절차순으로 작성하였습니다.\n",
    "def main():\n",
    "    pltService = PltService()\n",
    "    pltService.step1()  # 결측치 처리\n",
    "    pltService.step2()  # 이상치 처리\n",
    "    pltService.step3()  # 정규화 처리\n",
    "    pltService.eda1()   # 결측치 개수 확인\n",
    "    pltService.eda2()   # Outcome 별 Glucose 평균\n",
    "    pltService.eda3()   # 상위 5개 출력\n",
    "\n",
    "main()"
   ]
  }
 ],
 "metadata": {
  "kernelspec": {
   "display_name": "Python 3",
   "language": "python",
   "name": "python3"
  },
  "language_info": {
   "codemirror_mode": {
    "name": "ipython",
    "version": 3
   },
   "file_extension": ".py",
   "mimetype": "text/x-python",
   "name": "python",
   "nbconvert_exporter": "python",
   "pygments_lexer": "ipython3",
   "version": "3.13.4"
  }
 },
 "nbformat": 4,
 "nbformat_minor": 5
}
