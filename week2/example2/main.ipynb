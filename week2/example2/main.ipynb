{
 "cells": [
  {
   "cell_type": "code",
   "execution_count": 1,
   "id": "a9971a47",
   "metadata": {},
   "outputs": [
    {
     "name": "stdout",
     "output_type": "stream",
     "text": [
      "MAE:  23197.69\n",
      "MSE:  1213483949.81\n",
      "RMSE: 34835.10\n",
      "R2:   0.7164\n",
      "\n",
      "[결과 해석]\n",
      "MAE는 평균적으로 23197.69 정도의 오차가 발생했음을 의미합니다.\n",
      "RMSE는 34835.10로, 큰 오차에 더 민감하게 반응합니다.\n",
      "R2 점수는 0.7164로, 모델이 주택 가격 변동의 약 71.64%를 설명합니다.\n"
     ]
    }
   ],
   "source": [
    "from application.service.plt_service import PltService\n",
    "\n",
    "############### Applcation Main ###############\n",
    "# 요구사항에 따라 절차순으로 작성하였습니다.\n",
    "def main():\n",
    "    pltService = PltService()\n",
    "    pltService.step1()\n",
    "    pltService.step2()\n",
    "    pltService.step3()\n",
    "    pltService.step4()\n",
    "    pltService.step5()\n",
    "    pltService.step6()\n",
    "\n",
    "main()"
   ]
  }
 ],
 "metadata": {
  "kernelspec": {
   "display_name": "Python 3",
   "language": "python",
   "name": "python3"
  },
  "language_info": {
   "codemirror_mode": {
    "name": "ipython",
    "version": 3
   },
   "file_extension": ".py",
   "mimetype": "text/x-python",
   "name": "python",
   "nbconvert_exporter": "python",
   "pygments_lexer": "ipython3",
   "version": "3.13.4"
  }
 },
 "nbformat": 4,
 "nbformat_minor": 5
}
