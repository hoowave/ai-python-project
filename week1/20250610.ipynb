{
 "cells": [
  {
   "cell_type": "code",
   "execution_count": null,
   "id": "4c64a117",
   "metadata": {},
   "outputs": [],
   "source": [
    "print(\"나이를 입력해주세요.\")\n",
    "age = int(input())\n",
    "msg = '대상자입니다.' if age < 15 or age >= 65 else '대상자가 아닙니다.'\n",
    "print(msg)\n",
    "# if age < 15 or age > 65:\n",
    "#    print(\"대상자입니다.\")\n",
    "# else :\n",
    "#    print(\"대상자가 아닙니다.\")"
   ]
  },
  {
   "cell_type": "code",
   "execution_count": null,
   "id": "8006d800",
   "metadata": {},
   "outputs": [],
   "source": [
    "num = 0\n",
    "sum = 0;\n",
    "while num < 100:\n",
    "    num = num+1\n",
    "    sum = sum+num\n",
    "print(sum)"
   ]
  },
  {
   "cell_type": "code",
   "execution_count": null,
   "id": "4f10b2ab",
   "metadata": {},
   "outputs": [],
   "source": [
    "for i in range(2, 10, 2):\n",
    "    for j in range(1, 10):\n",
    "        if j<=i:\n",
    "            print(i*j,end=\" \")\n",
    "    print(\"\")"
   ]
  },
  {
   "cell_type": "code",
   "execution_count": null,
   "id": "dbf38154",
   "metadata": {},
   "outputs": [],
   "source": [
    "num=0\n",
    "sum=0\n",
    "while 1:\n",
    "    if sum > 1000:\n",
    "        break\n",
    "    num = num + 1\n",
    "    if num % 2 == 0:\n",
    "        sum = sum + num\n",
    "    elif num % 3 == 0:\n",
    "        sum = sum + num\n",
    "print(num)\n",
    "print(sum)"
   ]
  },
  {
   "cell_type": "code",
   "execution_count": null,
   "id": "30250ca4",
   "metadata": {},
   "outputs": [],
   "source": []
  }
 ],
 "metadata": {
  "kernelspec": {
   "display_name": ".venv",
   "language": "python",
   "name": "python3"
  },
  "language_info": {
   "codemirror_mode": {
    "name": "ipython",
    "version": 3
   },
   "file_extension": ".py",
   "mimetype": "text/x-python",
   "name": "python",
   "nbconvert_exporter": "python",
   "pygments_lexer": "ipython3",
   "version": "3.13.4"
  }
 },
 "nbformat": 4,
 "nbformat_minor": 5
}
