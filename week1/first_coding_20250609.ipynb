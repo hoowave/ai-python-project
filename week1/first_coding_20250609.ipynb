{
 "cells": [
  {
   "cell_type": "code",
   "execution_count": 4,
   "id": "2dddcb2a",
   "metadata": {},
   "outputs": [
    {
     "name": "stdout",
     "output_type": "stream",
     "text": [
      "안녕하세요\n",
      "100\n"
     ]
    }
   ],
   "source": [
    "print('안녕하세요')\n",
    "print(100)"
   ]
  },
  {
   "cell_type": "code",
   "execution_count": 5,
   "id": "bfdc8930",
   "metadata": {},
   "outputs": [],
   "source": [
    "# 주석 => 코드 내부에 사용, 코드로 인식 X, 간단한 메모\n",
    "# 변수 => 데이터를 저장(메모리: 플레시메모리)하는 방식\n",
    "# 변수이름(식별자) = 값(데이터: 숫자, 문자열, 논리값(True,False), 객체)\n",
    "# 변수에는 데이터를 저장하고 있는 메모리의 주소값을 저장\n",
    "num = 10"
   ]
  },
  {
   "cell_type": "code",
   "execution_count": 6,
   "id": "612502da",
   "metadata": {},
   "outputs": [
    {
     "name": "stdout",
     "output_type": "stream",
     "text": [
      "10\n"
     ]
    }
   ],
   "source": [
    "print(num)"
   ]
  },
  {
   "cell_type": "code",
   "execution_count": 7,
   "id": "a0f4b192",
   "metadata": {},
   "outputs": [
    {
     "data": {
      "text/plain": [
       "140724388250824"
      ]
     },
     "execution_count": 7,
     "metadata": {},
     "output_type": "execute_result"
    }
   ],
   "source": [
    "id(num)"
   ]
  },
  {
   "cell_type": "code",
   "execution_count": 8,
   "id": "7b6a9bc6",
   "metadata": {},
   "outputs": [
    {
     "data": {
      "text/plain": [
       "110"
      ]
     },
     "execution_count": 8,
     "metadata": {},
     "output_type": "execute_result"
    }
   ],
   "source": [
    "num+100"
   ]
  },
  {
   "cell_type": "code",
   "execution_count": 10,
   "id": "bbde819a",
   "metadata": {},
   "outputs": [],
   "source": [
    "# 변수 = 데이터\n",
    "# 데이터 => 숫자, 문자, 논리값\n",
    "# 숫자 => 정수, 실수\n",
    "num1 = 10\n",
    "num2 = 3.14"
   ]
  },
  {
   "cell_type": "code",
   "execution_count": 13,
   "id": "01e7ea84",
   "metadata": {},
   "outputs": [
    {
     "name": "stdout",
     "output_type": "stream",
     "text": [
      "<class 'int'>\n",
      "<class 'float'>\n"
     ]
    }
   ],
   "source": [
    "print(type(num1))\n",
    "print(type(num2))"
   ]
  },
  {
   "cell_type": "code",
   "execution_count": 14,
   "id": "f4012637",
   "metadata": {},
   "outputs": [],
   "source": [
    "num3 = 'hello~'"
   ]
  },
  {
   "cell_type": "code",
   "execution_count": 16,
   "id": "c0394888",
   "metadata": {},
   "outputs": [
    {
     "name": "stdout",
     "output_type": "stream",
     "text": [
      "hello~\n",
      "<class 'str'>\n"
     ]
    }
   ],
   "source": [
    "print(num3)\n",
    "print(type(num3))"
   ]
  },
  {
   "cell_type": "code",
   "execution_count": 17,
   "id": "fcfeba11",
   "metadata": {},
   "outputs": [],
   "source": [
    "# 논리값 : 참, 거짓 => True, False\n",
    "check1 = True\n",
    "check2 = False"
   ]
  },
  {
   "cell_type": "code",
   "execution_count": 19,
   "id": "49eae5c4",
   "metadata": {},
   "outputs": [
    {
     "name": "stdout",
     "output_type": "stream",
     "text": [
      "True <class 'bool'>\n",
      "False <class 'bool'>\n"
     ]
    }
   ],
   "source": [
    "print(check1, type(check1))\n",
    "print(check2, type(check2))"
   ]
  },
  {
   "cell_type": "code",
   "execution_count": 25,
   "id": "9bb13562",
   "metadata": {},
   "outputs": [],
   "source": [
    "str_a = 'python'"
   ]
  },
  {
   "cell_type": "code",
   "execution_count": 26,
   "id": "583415e3",
   "metadata": {},
   "outputs": [
    {
     "data": {
      "text/plain": [
       "'PYTHON'"
      ]
     },
     "execution_count": 26,
     "metadata": {},
     "output_type": "execute_result"
    }
   ],
   "source": [
    "str_a.upper()\n",
    "# 주소값.메서드()"
   ]
  },
  {
   "cell_type": "code",
   "execution_count": 27,
   "id": "71baeb4a",
   "metadata": {},
   "outputs": [
    {
     "name": "stdout",
     "output_type": "stream",
     "text": [
      "<class 'str'>\n"
     ]
    }
   ],
   "source": [
    "print(type(str_a))"
   ]
  },
  {
   "cell_type": "code",
   "execution_count": 28,
   "id": "9e89112c",
   "metadata": {},
   "outputs": [],
   "source": [
    "str_a = 100"
   ]
  },
  {
   "cell_type": "code",
   "execution_count": 29,
   "id": "31c5e1e3",
   "metadata": {},
   "outputs": [
    {
     "name": "stdout",
     "output_type": "stream",
     "text": [
      "100 <class 'int'>\n"
     ]
    }
   ],
   "source": [
    "print(str_a, type(str_a))"
   ]
  },
  {
   "cell_type": "code",
   "execution_count": 30,
   "id": "b1243e8a",
   "metadata": {},
   "outputs": [],
   "source": [
    "# 문자열 생성\n",
    "# '', \"\", ''' ''', \"\"\" \"\"\"\n",
    "str_1 = 'hello~'\n",
    "str_2 = \"안녕하세요\"\n",
    "str_3 = '''첫째 라인\n",
    "안녕하세요\n",
    "반갑습니다.\n",
    "'''\n",
    "str_4 = \"\"\"\n",
    "select *\n",
    "from emp\n",
    "where empno=10\n",
    "\"\"\""
   ]
  },
  {
   "cell_type": "code",
   "execution_count": 35,
   "id": "ac8dfb1f",
   "metadata": {},
   "outputs": [
    {
     "name": "stdout",
     "output_type": "stream",
     "text": [
      "hello~ <class 'str'>\n",
      "안녕하세요 <class 'str'>\n",
      "첫째 라인\n",
      "안녕하세요\n",
      "반갑습니다.\n",
      " <class 'str'>\n",
      "\n",
      "select *\n",
      "from emp\n",
      "where empno=10\n",
      " <class 'str'>\n"
     ]
    }
   ],
   "source": [
    "print(str_1, type(str_1))\n",
    "print(str_2, type(str_2))\n",
    "print(str_3, type(str_3))\n",
    "print(str_4, type(str_4))"
   ]
  },
  {
   "cell_type": "code",
   "execution_count": 37,
   "id": "82033e93",
   "metadata": {},
   "outputs": [
    {
     "name": "stdout",
     "output_type": "stream",
     "text": [
      "hello python!!\n",
      "==========\n"
     ]
    }
   ],
   "source": [
    "# 문자열의 연산\n",
    "# 사칙연산 X => 더하기(연결)\n",
    "# 곱샘 * => 반복(몇번 반복)\n",
    "print('hello'+' python!!')\n",
    "print('='*10)"
   ]
  },
  {
   "cell_type": "code",
   "execution_count": 40,
   "id": "59bdbdf3",
   "metadata": {},
   "outputs": [
    {
     "name": "stdout",
     "output_type": "stream",
     "text": [
      "6\n",
      "5\n"
     ]
    }
   ],
   "source": [
    "# 함수(기능) : 데이터 전달하면 -> 처리(연산) -> 값을 반환\n",
    "# 문자열의 길이 반환 함수 : len(변수:시퀀스형식의 데이터)\n",
    "print(len(str_1))\n",
    "print(len(str_2))"
   ]
  },
  {
   "cell_type": "code",
   "execution_count": null,
   "id": "d0c47451",
   "metadata": {},
   "outputs": [],
   "source": [
    "# 문자열 : 시퀀스 데이터 => 순서 O\n",
    "# 시퀀스 데이터의 테이터들의 구분 => index값\n",
    "# hello => ['h', 'e', 'l', 'l', 'o']\n",
    "#   index => 0    1    2    3    4   => 0 ~ N-1 => 0~4\n",
    "str_5 = 'hello~ python!!'\n",
    "#        0123456789.."
   ]
  },
  {
   "cell_type": "code",
   "execution_count": 43,
   "id": "9b037761",
   "metadata": {},
   "outputs": [
    {
     "data": {
      "text/plain": [
       "'~'"
      ]
     },
     "execution_count": 43,
     "metadata": {},
     "output_type": "execute_result"
    }
   ],
   "source": [
    "str_5[5]"
   ]
  },
  {
   "cell_type": "code",
   "execution_count": 44,
   "id": "d3476b85",
   "metadata": {},
   "outputs": [
    {
     "data": {
      "text/plain": [
       "'hello'"
      ]
     },
     "execution_count": 44,
     "metadata": {},
     "output_type": "execute_result"
    }
   ],
   "source": [
    "# 문자열(시퀀스)의 슬라이싱\n",
    "# s[시작 index : 종료 index]   => 종료 index값을 만나면 탈출\n",
    "# str_5[0 : 5]\n",
    "str_5[0 : 5]"
   ]
  },
  {
   "cell_type": "code",
   "execution_count": 46,
   "id": "bd9990de",
   "metadata": {},
   "outputs": [
    {
     "name": "stdout",
     "output_type": "stream",
     "text": [
      "안녕하세요! 저는 손흥민입니다. 나이는 30 입니다.\n"
     ]
    }
   ],
   "source": [
    "# 문자열 포맷팅\n",
    "# 3.6 버전 이후 f\"\"  , 접두사 f 붙이고 포맷팅\n",
    "user_name = '손흥민'\n",
    "user_age = 30\n",
    "print(f'안녕하세요! 저는 {user_name}입니다. 나이는 {user_age} 입니다.')"
   ]
  },
  {
   "cell_type": "code",
   "execution_count": 47,
   "id": "72b0e775",
   "metadata": {},
   "outputs": [
    {
     "name": "stdout",
     "output_type": "stream",
     "text": [
      "내년에는 나이가 31살이 됩니다.\n"
     ]
    }
   ],
   "source": [
    "print(f'내년에는 나이가 {user_age+1}살이 됩니다.')"
   ]
  },
  {
   "cell_type": "code",
   "execution_count": 48,
   "id": "e95231b0",
   "metadata": {},
   "outputs": [],
   "source": [
    "# 복합 대입 연산\n",
    "num = 1"
   ]
  },
  {
   "cell_type": "code",
   "execution_count": 49,
   "id": "765f5ea2",
   "metadata": {},
   "outputs": [],
   "source": [
    "num = num + 1"
   ]
  },
  {
   "cell_type": "code",
   "execution_count": 50,
   "id": "dd4f8f6e",
   "metadata": {},
   "outputs": [
    {
     "name": "stdout",
     "output_type": "stream",
     "text": [
      "2\n"
     ]
    }
   ],
   "source": [
    "print(num)"
   ]
  },
  {
   "cell_type": "code",
   "execution_count": 51,
   "id": "c36ad425",
   "metadata": {},
   "outputs": [],
   "source": [
    "num += 1  # num = num + 1"
   ]
  },
  {
   "cell_type": "code",
   "execution_count": 52,
   "id": "4a8336ec",
   "metadata": {},
   "outputs": [
    {
     "name": "stdout",
     "output_type": "stream",
     "text": [
      "3\n"
     ]
    }
   ],
   "source": [
    "print(num)"
   ]
  },
  {
   "cell_type": "markdown",
   "id": "348925d8",
   "metadata": {},
   "source": [
    "### 연습문제 1\n",
    "과목별 점수, 총점, 평균점수 출력\n",
    "과목 : 국어, 영어, 수학"
   ]
  },
  {
   "cell_type": "code",
   "execution_count": null,
   "id": "41ef7bca",
   "metadata": {},
   "outputs": [],
   "source": [
    "# 1. 변수 선언, 초기화\n",
    "kor_score = 100     # 국어점수\n",
    "eng_score = 70      # 영어점수\n",
    "math_score = 80     # 수학점수"
   ]
  },
  {
   "cell_type": "code",
   "execution_count": null,
   "id": "d9e06c15",
   "metadata": {},
   "outputs": [],
   "source": [
    "# 2. 연산 : 총점, 평균\n",
    "sum_score = kor_score + eng_score + math_score\n",
    "avg_score = sum_score / 3"
   ]
  },
  {
   "cell_type": "code",
   "execution_count": 56,
   "id": "d23a856c",
   "metadata": {},
   "outputs": [
    {
     "name": "stdout",
     "output_type": "stream",
     "text": [
      "국어점수:100, 영어점수:70, 수학점수: 80 \n",
      "총점:250 \n",
      "평균점수:83.33333333333333\n"
     ]
    }
   ],
   "source": [
    "# 3. 결과 출력\n",
    "print(f'국어점수:{kor_score}, 영어점수:{eng_score}, 수학점수: {math_score} \\n총점:{sum_score} \\n평균점수:{avg_score}')"
   ]
  },
  {
   "cell_type": "code",
   "execution_count": 60,
   "id": "a7475686",
   "metadata": {},
   "outputs": [],
   "source": [
    "# 성별 체크, 나이 체크\n",
    "# 성별이 남성이고(and), 성인 판별 (18살 이상)\n",
    "# 1. 변수\n",
    "gender = 'M'  # 셩별 : 'M' | 'F'\n",
    "age = 20"
   ]
  },
  {
   "cell_type": "code",
   "execution_count": 61,
   "id": "881a7dcd",
   "metadata": {},
   "outputs": [],
   "source": [
    "# 2. 남성 그리고 성인\n",
    "check = gender == 'M' and age >= 18"
   ]
  },
  {
   "cell_type": "code",
   "execution_count": 62,
   "id": "1a6afea5",
   "metadata": {},
   "outputs": [
    {
     "name": "stdout",
     "output_type": "stream",
     "text": [
      "성인 남성 체크 : True\n"
     ]
    }
   ],
   "source": [
    "print('성인 남성 체크 :', check)"
   ]
  },
  {
   "cell_type": "code",
   "execution_count": 63,
   "id": "ac85210c",
   "metadata": {},
   "outputs": [],
   "source": [
    "# 리스트 : [] =>  순서를 가지는 데이터 묶음\n",
    "# index 값으로 요소들을 참조 => 0 ~ N(요소의 개수)-1\n",
    "list_a = [1,2,3]\n",
    "# index   0 1 2\n",
    "# 요소의 개수 : 3"
   ]
  },
  {
   "cell_type": "code",
   "execution_count": 66,
   "id": "3df0800b",
   "metadata": {},
   "outputs": [
    {
     "name": "stdout",
     "output_type": "stream",
     "text": [
      "[1, 2, 3] <class 'list'>\n"
     ]
    }
   ],
   "source": [
    "print(list_a, type(list_a))"
   ]
  },
  {
   "cell_type": "code",
   "execution_count": null,
   "id": "c509c88b",
   "metadata": {},
   "outputs": [],
   "source": [
    "# bool(), int(), float(), str(), list()"
   ]
  },
  {
   "cell_type": "code",
   "execution_count": 69,
   "id": "df9db910",
   "metadata": {},
   "outputs": [
    {
     "data": {
      "text/plain": [
       "3"
      ]
     },
     "execution_count": 69,
     "metadata": {},
     "output_type": "execute_result"
    }
   ],
   "source": [
    "# 요소의 참조\n",
    "list_a[2]"
   ]
  },
  {
   "cell_type": "code",
   "execution_count": 71,
   "id": "4d714b2f",
   "metadata": {},
   "outputs": [],
   "source": [
    "list_a[2] = 4"
   ]
  },
  {
   "cell_type": "code",
   "execution_count": 72,
   "id": "80df1eb3",
   "metadata": {},
   "outputs": [
    {
     "data": {
      "text/plain": [
       "[1, 2, 4]"
      ]
     },
     "execution_count": 72,
     "metadata": {},
     "output_type": "execute_result"
    }
   ],
   "source": [
    "list_a"
   ]
  }
 ],
 "metadata": {
  "kernelspec": {
   "display_name": ".venv",
   "language": "python",
   "name": "python3"
  },
  "language_info": {
   "codemirror_mode": {
    "name": "ipython",
    "version": 3
   },
   "file_extension": ".py",
   "mimetype": "text/x-python",
   "name": "python",
   "nbconvert_exporter": "python",
   "pygments_lexer": "ipython3",
   "version": "3.13.4"
  }
 },
 "nbformat": 4,
 "nbformat_minor": 5
}