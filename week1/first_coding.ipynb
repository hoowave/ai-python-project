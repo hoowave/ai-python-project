{
 "cells": [
  {
   "cell_type": "code",
   "execution_count": 48,
   "id": "f3c52393",
   "metadata": {},
   "outputs": [
    {
     "name": "stdout",
     "output_type": "stream",
     "text": [
      "안녕하세요\n",
      "300\n"
     ]
    }
   ],
   "source": [
    "print('안녕하세요')\n",
    "print(300)"
   ]
  },
  {
   "cell_type": "code",
   "execution_count": 49,
   "id": "4a99bf12",
   "metadata": {},
   "outputs": [],
   "source": [
    "num = 10;"
   ]
  },
  {
   "cell_type": "code",
   "execution_count": 50,
   "id": "2364c2ae",
   "metadata": {},
   "outputs": [
    {
     "name": "stdout",
     "output_type": "stream",
     "text": [
      "10\n"
     ]
    }
   ],
   "source": [
    "print(num);"
   ]
  },
  {
   "cell_type": "code",
   "execution_count": 51,
   "id": "d6bf99bc",
   "metadata": {},
   "outputs": [],
   "source": [
    "id(num);"
   ]
  },
  {
   "cell_type": "code",
   "execution_count": 52,
   "id": "009174af",
   "metadata": {},
   "outputs": [],
   "source": [
    "num1 = 10;\n",
    "num2 = 3.14;"
   ]
  },
  {
   "cell_type": "code",
   "execution_count": 53,
   "id": "e34af305",
   "metadata": {},
   "outputs": [
    {
     "name": "stdout",
     "output_type": "stream",
     "text": [
      "<class 'int'>\n",
      "<class 'float'>\n"
     ]
    }
   ],
   "source": [
    "print(type(num1));\n",
    "print(type(num2));"
   ]
  },
  {
   "cell_type": "code",
   "execution_count": 54,
   "id": "f47af403",
   "metadata": {},
   "outputs": [],
   "source": [
    "num3 = 'hello~';"
   ]
  },
  {
   "cell_type": "code",
   "execution_count": 55,
   "id": "4997c01a",
   "metadata": {},
   "outputs": [
    {
     "name": "stdout",
     "output_type": "stream",
     "text": [
      "hello~\n",
      "<class 'str'>\n"
     ]
    }
   ],
   "source": [
    "print(num3);\n",
    "print(type(num3));"
   ]
  },
  {
   "cell_type": "code",
   "execution_count": 56,
   "id": "2a5dd359",
   "metadata": {},
   "outputs": [],
   "source": [
    "check1 = True;\n",
    "check2 = False;"
   ]
  },
  {
   "cell_type": "code",
   "execution_count": 57,
   "id": "807a9b37",
   "metadata": {},
   "outputs": [
    {
     "name": "stdout",
     "output_type": "stream",
     "text": [
      "True <class 'bool'>\n",
      "False <class 'bool'>\n"
     ]
    }
   ],
   "source": [
    "print(check1, type(check1));\n",
    "print(check2, type(check2));"
   ]
  },
  {
   "cell_type": "code",
   "execution_count": 58,
   "id": "6e0bbef0",
   "metadata": {},
   "outputs": [],
   "source": [
    "str_a = 'python';"
   ]
  },
  {
   "cell_type": "code",
   "execution_count": 59,
   "id": "cbe003e3",
   "metadata": {},
   "outputs": [],
   "source": [
    "str_a.upper();"
   ]
  },
  {
   "cell_type": "markdown",
   "id": "2afc8bc9",
   "metadata": {},
   "source": []
  },
  {
   "cell_type": "code",
   "execution_count": 60,
   "id": "83758e39",
   "metadata": {},
   "outputs": [],
   "source": [
    "str_a = 100"
   ]
  },
  {
   "cell_type": "code",
   "execution_count": 61,
   "id": "45721650",
   "metadata": {},
   "outputs": [
    {
     "name": "stdout",
     "output_type": "stream",
     "text": [
      "100\n"
     ]
    }
   ],
   "source": [
    "print(str_a)"
   ]
  },
  {
   "cell_type": "code",
   "execution_count": 1,
   "id": "f7356343",
   "metadata": {},
   "outputs": [
    {
     "name": "stdout",
     "output_type": "stream",
     "text": [
      "국어, 영어, 수학 3과목의 총점은 270점이며, 평균은 90.0점입니다.\n"
     ]
    }
   ],
   "source": [
    "kor = 100\n",
    "eng = 90\n",
    "math = 80\n",
    "sum = kor+eng+math\n",
    "age = sum/3\n",
    "print(\"국어, 영어, 수학 3과목의 총점은 {0}점이며, 평균은 {1}점입니다.\".format(sum,age))"
   ]
  },
  {
   "cell_type": "code",
   "execution_count": null,
   "id": "85c5bfde",
   "metadata": {},
   "outputs": [],
   "source": []
  },
  {
   "cell_type": "code",
   "execution_count": 15,
   "id": "f6f37f7b",
   "metadata": {},
   "outputs": [
    {
     "name": "stdout",
     "output_type": "stream",
     "text": [
      "입력하신 성별은 {0}이며\n",
      "성별이 남성이고, 18세 이상이 아닙니다.\n"
     ]
    }
   ],
   "source": [
    "gender = 'male'\n",
    "age = 17\n",
    "print(\"입력하신 성별은 {0}이며\")\n",
    "if gender == 'male' and age >= 18:\n",
    "    print(\"성별이 남성이고, 18세 이상입니다.\")\n",
    "else:\n",
    "    print(\"성별이 남성이고, 18세 이상이 아닙니다.\")"
   ]
  },
  {
   "cell_type": "code",
   "execution_count": 7,
   "id": "9309c84f",
   "metadata": {},
   "outputs": [
    {
     "data": {
      "text/plain": [
       "46"
      ]
     },
     "execution_count": 7,
     "metadata": {},
     "output_type": "execute_result"
    }
   ],
   "source": [
    "def add_type(type,*args):\n",
    "    # add, mul\n",
    "    if type=='add':          \n",
    "        result = 0               # add 일때 0\n",
    "        for num in args:\n",
    "            result += num\n",
    "        return result\n",
    "    elif type=='mul':\n",
    "        result = 1               # mul 일때 1\n",
    "        for num in args:\n",
    "            result *=num\n",
    "        return result\n",
    "    else :\n",
    "        print('사용가능한 타입을 입력해주세요')\n",
    "\n",
    "add_type(\"add\", 12, 34)"
   ]
  },
  {
   "cell_type": "code",
   "execution_count": 8,
   "id": "e5031879",
   "metadata": {},
   "outputs": [],
   "source": [
    "def positive(l) :\n",
    "    result = []\n",
    "    for n in l:\n",
    "        if n > 0 :\n",
    "            result.append(n)\n",
    "    return result"
   ]
  },
  {
   "cell_type": "code",
   "execution_count": 10,
   "id": "43d7c2d4",
   "metadata": {},
   "outputs": [
    {
     "data": {
      "text/plain": [
       "[3, 1, 9, 10, 4]"
      ]
     },
     "execution_count": 10,
     "metadata": {},
     "output_type": "execute_result"
    }
   ],
   "source": [
    "positive([3, 1, -1, -3, 0, 9, 10, 4])"
   ]
  },
  {
   "cell_type": "code",
   "execution_count": 14,
   "id": "a3d0f679",
   "metadata": {},
   "outputs": [],
   "source": [
    "def positive_fn(x) :\n",
    "    return x > 0"
   ]
  },
  {
   "cell_type": "code",
   "execution_count": 16,
   "id": "b0d8fe23",
   "metadata": {},
   "outputs": [],
   "source": [
    "def pos_fn2(x) :\n",
    "    return x % 2 == 1"
   ]
  },
  {
   "cell_type": "code",
   "execution_count": 18,
   "id": "c42065e8",
   "metadata": {},
   "outputs": [
    {
     "data": {
      "text/plain": [
       "[3, 1, -1, -3, 9]"
      ]
     },
     "execution_count": 18,
     "metadata": {},
     "output_type": "execute_result"
    }
   ],
   "source": [
    "list(filter(pos_fn2, [3, 1, -1, -3, 0, 9, 10, 4]))"
   ]
  },
  {
   "cell_type": "code",
   "execution_count": 22,
   "id": "a96ff9ef",
   "metadata": {},
   "outputs": [
    {
     "data": {
      "text/plain": [
       "[3, 1, -1, -3, 9]"
      ]
     },
     "execution_count": 22,
     "metadata": {},
     "output_type": "execute_result"
    }
   ],
   "source": [
    "list(filter(lambda x : x > 0, [3, 1, -1, -3, 0, 9, 10, 4]))\n",
    "list(filter(lambda x : x % 2 == 1, [3, 1, -1, -3, 0, 9, 10, 4]))"
   ]
  },
  {
   "cell_type": "code",
   "execution_count": 24,
   "id": "33f18901",
   "metadata": {},
   "outputs": [
    {
     "data": {
      "text/plain": [
       "<map at 0x22f834c1090>"
      ]
     },
     "execution_count": 24,
     "metadata": {},
     "output_type": "execute_result"
    }
   ],
   "source": [
    "map(lambda x : x*2, [1,2,3,4,5])"
   ]
  },
  {
   "cell_type": "code",
   "execution_count": 26,
   "id": "58a24c9d",
   "metadata": {},
   "outputs": [],
   "source": [
    "f = open('new_text.txt','w')\n",
    "f.close()"
   ]
  },
  {
   "cell_type": "code",
   "execution_count": 29,
   "id": "2a28b9a2",
   "metadata": {},
   "outputs": [],
   "source": [
    "f = open('new_text.txt', 'w')\n",
    "f.write('안녕하세요!!!!')\n",
    "f.close()"
   ]
  },
  {
   "cell_type": "code",
   "execution_count": 31,
   "id": "37f8e04b",
   "metadata": {},
   "outputs": [],
   "source": [
    "f = open('new_text.txt', 'w')\n",
    "for i in range(1,11):\n",
    "    f.write(f'{i}번째 줄 입력\\n')\n",
    "f.close()"
   ]
  },
  {
   "cell_type": "code",
   "execution_count": 34,
   "id": "2fd1fdf2",
   "metadata": {},
   "outputs": [
    {
     "name": "stdout",
     "output_type": "stream",
     "text": [
      "1번째 줄 입력\n",
      "\n",
      "2번째 줄 입력\n",
      "\n"
     ]
    }
   ],
   "source": [
    "f = open('new_text.txt', 'r')\n",
    "line1 = f.readline()\n",
    "print(line1)\n",
    "line2 = f.readline()\n",
    "print(line2)\n",
    "f.close()"
   ]
  },
  {
   "cell_type": "code",
   "execution_count": 35,
   "id": "2a18ebf0",
   "metadata": {},
   "outputs": [],
   "source": [
    "class MyError(Exception):\n",
    "    pass"
   ]
  },
  {
   "cell_type": "code",
   "execution_count": 36,
   "id": "757d26ae",
   "metadata": {},
   "outputs": [
    {
     "ename": "MyError",
     "evalue": "",
     "output_type": "error",
     "traceback": [
      "\u001b[31m---------------------------------------------------------------------------\u001b[39m",
      "\u001b[31mMyError\u001b[39m                                   Traceback (most recent call last)",
      "\u001b[36mCell\u001b[39m\u001b[36m \u001b[39m\u001b[32mIn[36]\u001b[39m\u001b[32m, line 1\u001b[39m\n\u001b[32m----> \u001b[39m\u001b[32m1\u001b[39m \u001b[38;5;28;01mraise\u001b[39;00m MyError()\n",
      "\u001b[31mMyError\u001b[39m: "
     ]
    }
   ],
   "source": [
    "raise MyError()"
   ]
  },
  {
   "cell_type": "code",
   "execution_count": null,
   "id": "79e18042",
   "metadata": {},
   "outputs": [],
   "source": []
  }
 ],
 "metadata": {
  "kernelspec": {
   "display_name": ".venv",
   "language": "python",
   "name": "python3"
  },
  "language_info": {
   "codemirror_mode": {
    "name": "ipython",
    "version": 3
   },
   "file_extension": ".py",
   "mimetype": "text/x-python",
   "name": "python",
   "nbconvert_exporter": "python",
   "pygments_lexer": "ipython3",
   "version": "3.13.4"
  }
 },
 "nbformat": 4,
 "nbformat_minor": 5
}
