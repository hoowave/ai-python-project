{
 "cells": [
  {
   "cell_type": "code",
   "execution_count": 7,
   "id": "241bb0e2",
   "metadata": {},
   "outputs": [
    {
     "name": "stdout",
     "output_type": "stream",
     "text": [
      "디렉터리 감시를 통한 보안 위협 탐지 프로그램 - 장상훈\n",
      "모니터링에서 추가된 파일 : \n",
      "test_5.py | 상태: 주의파일(Python 파일) / 민감정보탐지(주석 포함) \n",
      "test_6.js | 상태: 주의파일(JavaScript 파일) / 민감정보탐지(주석 포함, 이메일 포함) \n",
      "test_4.txt | 상태: 민감정보탐지(SQL 문장 포함) \n",
      "test_7.class | 상태: 주의파일(Class 파일) / 민감정보탐지(주석 포함, 이메일 포함, SQL 문장 포함) \n",
      "test_2.txt | 상태: 민감정보탐지(주석 포함) \n",
      "test_3.txt | 상태: 민감정보탐지(이메일 포함) \n",
      "test_1.txt | 상태: 정상 \n",
      "\n",
      "모니터링에서 추가된 파일 : \n",
      "testtesttest.txt | 상태: 정상 \n",
      "\n",
      "모니터링중 변경된 파일 : \n",
      "testtesttest.txt | 상태: 민감정보탐지(주석 포함) \n",
      "모니터링중 변경된 파일 : \n",
      "testtesttest.txt | 상태: 민감정보탐지(주석 포함, 이메일 포함, SQL 문장 포함) \n",
      "모니터링에서 삭제된 파일 : \n",
      "testtesttest.txt\n"
     ]
    },
    {
     "ename": "KeyboardInterrupt",
     "evalue": "",
     "output_type": "error",
     "traceback": [
      "\u001b[31m---------------------------------------------------------------------------\u001b[39m",
      "\u001b[31mKeyboardInterrupt\u001b[39m                         Traceback (most recent call last)",
      "\u001b[36mCell\u001b[39m\u001b[36m \u001b[39m\u001b[32mIn[7]\u001b[39m\u001b[32m, line 62\u001b[39m\n\u001b[32m     58\u001b[39m         time.sleep(env.interval)\n\u001b[32m     59\u001b[39m \u001b[38;5;66;03m###############################################\u001b[39;00m\n\u001b[32m     60\u001b[39m \n\u001b[32m     61\u001b[39m \u001b[38;5;66;03m# 애플리케이션 실행\u001b[39;00m\n\u001b[32m---> \u001b[39m\u001b[32m62\u001b[39m \u001b[43mmain\u001b[49m\u001b[43m(\u001b[49m\u001b[43m)\u001b[49m\n",
      "\u001b[36mCell\u001b[39m\u001b[36m \u001b[39m\u001b[32mIn[7]\u001b[39m\u001b[32m, line 58\u001b[39m, in \u001b[36mmain\u001b[39m\u001b[34m()\u001b[39m\n\u001b[32m     55\u001b[39m snapHashDict = currentHashDict\n\u001b[32m     57\u001b[39m \u001b[38;5;66;03m# 루프 타이머\u001b[39;00m\n\u001b[32m---> \u001b[39m\u001b[32m58\u001b[39m \u001b[43mtime\u001b[49m\u001b[43m.\u001b[49m\u001b[43msleep\u001b[49m\u001b[43m(\u001b[49m\u001b[43menv\u001b[49m\u001b[43m.\u001b[49m\u001b[43minterval\u001b[49m\u001b[43m)\u001b[49m\n",
      "\u001b[31mKeyboardInterrupt\u001b[39m: "
     ]
    }
   ],
   "source": [
    "import time\n",
    "\n",
    "from env import Env\n",
    "from service.file_service import FileService\n",
    "\n",
    "############### Applcation Main ###############\n",
    "# 애플리케이션 진입점\n",
    "def main():\n",
    "    print('디렉터리 감시를 통한 보안 위협 탐지 프로그램 - 장상훈')\n",
    "    env = Env()                                         # 환경변수 로드\n",
    "    fileService = FileService(env)                      # 파일 입출력 서비스 클래스\n",
    "    fileInfoList = fileService.getFileInfoList()        # 디렉터리 내 파일 정보 초기화\n",
    "    snapHashDict = {}                                   # 횬쟈 폴더 내 해시값 스냅샷\n",
    "    while True:\n",
    "        fileInfoList = fileService.getFileInfoList()    # 파일 목록 최신화\n",
    "\n",
    "        # 현재 폴더 내 유효한 해시값\n",
    "        currentHashDict = {f\"{fileInfo._fileName}{fileInfo._extension}\": fileInfo._hash for fileInfo in fileInfoList}\n",
    "\n",
    "        # 해시값을 통한 파일 도메인 객체 참조\n",
    "        prevFiles = set(snapHashDict.keys())\n",
    "        currentFiles = set(currentHashDict.keys())\n",
    "\n",
    "        # 추가된 파일과 삭제된 파일 검사\n",
    "        added_files = currentFiles - prevFiles\n",
    "        removed_files = prevFiles - currentFiles\n",
    "\n",
    "        # 파일이 추가된 경우\n",
    "        if added_files:\n",
    "            print(\"모니터링에서 추가된 파일 : \")\n",
    "            for filename in added_files:\n",
    "                file_hash = currentHashDict[filename]\n",
    "                hashToFileInfo = {fileInfo._hash: fileInfo for fileInfo in fileInfoList}\n",
    "                print(hashToFileInfo.get(file_hash).__str__())\n",
    "            print(\"\")\n",
    "\n",
    "        # 파일이 삭제된 경우\n",
    "        if removed_files:\n",
    "            print(\"모니터링에서 삭제된 파일 : \")\n",
    "            for filename in removed_files:\n",
    "                print(filename)\n",
    "\n",
    "        common_files = prevFiles & currentFiles\n",
    "        changed_files = [f for f in common_files if snapHashDict[f] != currentHashDict[f]]\n",
    "\n",
    "        # 파일이 변경된 경우\n",
    "        if changed_files:\n",
    "            print(\"모니터링중 변경된 파일 : \")\n",
    "            for filename in changed_files:\n",
    "                file_hash = currentHashDict[filename]\n",
    "                hashToFileInfo = {fileInfo._hash: fileInfo for fileInfo in fileInfoList}\n",
    "                print(hashToFileInfo.get(file_hash).__str__())\n",
    "\n",
    "        # 딕셔너리 최신화\n",
    "        snapHashDict = currentHashDict\n",
    "\n",
    "        # 루프 타이머\n",
    "        time.sleep(env.interval)\n",
    "###############################################\n",
    "\n",
    "# 애플리케이션 실행\n",
    "main()\n"
   ]
  }
 ],
 "metadata": {
  "kernelspec": {
   "display_name": "Python 3",
   "language": "python",
   "name": "python3"
  },
  "language_info": {
   "codemirror_mode": {
    "name": "ipython",
    "version": 3
   },
   "file_extension": ".py",
   "mimetype": "text/x-python",
   "name": "python",
   "nbconvert_exporter": "python",
   "pygments_lexer": "ipython3",
   "version": "3.13.4"
  }
 },
 "nbformat": 4,
 "nbformat_minor": 5
}
