{
 "cells": [
  {
   "cell_type": "code",
   "execution_count": null,
   "id": "241bb0e2",
   "metadata": {},
   "outputs": [],
   "source": [
    "from env import Env\n",
    "from service.file_service import FileService\n",
    "\n",
    "############### Applcation Main ###############\n",
    "# 애플리케이션 진입점\n",
    "def main():\n",
    "    print('학생 평균 성적 관리 프로그램 - 장상훈')\n",
    "    env = Env()                                     # 환경변수 로드\n",
    "    fileService = FileService(env)                  # 파일 입출력 서비스 클래스\n",
    "    studentScores = fileService.loadLocalData()     # 로컬파일 로딩 -> 학생 도메인 클래스 반환\n",
    "    print('학생 데이터 불러오기 성공!')\n",
    "\n",
    "    menu = {\n",
    "        '1': lambda: print(f\"전체 평균 점수: {studentScores.calculate_average():.2f}점\"),\n",
    "        '2': lambda: print(studentScores.get_above_average()),\n",
    "        '3': lambda: fileService.save_below_average(studentScores),\n",
    "        '4': studentScores.print_summary\n",
    "    }\n",
    "\n",
    "    while True:\n",
    "        print('\\n1. 평균 점수 계산 | 2. 평균 이상 학생 리스트 반환 | 3. 평균 이하 학생 데이터 파일로 저장 | 4. 평균 점수와 평균 이상 학생 리스트 출력 | 0. 종료')\n",
    "        choice = input('선택: ')\n",
    "        if choice == '0':\n",
    "            print('프로그램을 종료합니다.')\n",
    "            break\n",
    "        action = menu.get(choice)\n",
    "        if action:\n",
    "            action()\n",
    "        else:\n",
    "            print('잘못된 선택입니다.')\n",
    "###############################################\n",
    "\n",
    "# 애플리케이션 실행\n",
    "main()\n"
   ]
  }
 ],
 "metadata": {
  "kernelspec": {
   "display_name": ".venv",
   "language": "python",
   "name": "python3"
  },
  "language_info": {
   "codemirror_mode": {
    "name": "ipython",
    "version": 3
   },
   "file_extension": ".py",
   "mimetype": "text/x-python",
   "name": "python",
   "nbconvert_exporter": "python",
   "pygments_lexer": "ipython3",
   "version": "3.13.4"
  }
 },
 "nbformat": 4,
 "nbformat_minor": 5
}
