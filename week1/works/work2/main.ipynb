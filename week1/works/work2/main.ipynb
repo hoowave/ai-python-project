{
 "cells": [
  {
   "cell_type": "code",
   "execution_count": 1,
   "id": "241bb0e2",
   "metadata": {},
   "outputs": [
    {
     "name": "stdout",
     "output_type": "stream",
     "text": [
      "로그 파일을 활용한 IP 접속 분석 프로그램 - 장상훈\n",
      "로그 데이터 불러오기 성공!\n",
      "\n",
      "1. IP 추출 및 빈도 계산  | 2. 상위 3개 IP 주소 출력 | 3. 분석 결과 CSV 저장 | 0. 종료\n",
      "10.0.0.1 : 12\n",
      "203.0.113.10 : 9\n",
      "172.16.0.2 : 10\n",
      "203.0.113.5 : 17\n",
      "198.51.100.23 : 13\n",
      "127.0.0.1 : 11\n",
      "192.168.0.3 : 14\n",
      "192.168.0.2 : 14\n",
      "\n",
      "1. IP 추출 및 빈도 계산  | 2. 상위 3개 IP 주소 출력 | 3. 분석 결과 CSV 저장 | 0. 종료\n",
      "203.0.113.5 : 17\n",
      "192.168.0.3 : 14\n",
      "192.168.0.2 : 14\n",
      "\n",
      "1. IP 추출 및 빈도 계산  | 2. 상위 3개 IP 주소 출력 | 3. 분석 결과 CSV 저장 | 0. 종료\n",
      "평균 미만 학생 목록이 './log/ip_analysis.csv'에 저장되었습니다.\n",
      "\n",
      "1. IP 추출 및 빈도 계산  | 2. 상위 3개 IP 주소 출력 | 3. 분석 결과 CSV 저장 | 0. 종료\n",
      "프로그램을 종료합니다.\n"
     ]
    }
   ],
   "source": [
    "from env import Env\n",
    "from service.file_service import FileService\n",
    "\n",
    "############### Applcation Main ###############\n",
    "# 애플리케이션 진입점\n",
    "def main():\n",
    "    print('로그 파일을 활용한 IP 접속 분석 프로그램 - 장상훈')\n",
    "    env = Env()                                     # 환경변수 로드\n",
    "    fileService = FileService(env)                  # 파일 입출력 서비스 클래스\n",
    "    logPath = input(\"로그 파일 경로를 입력하세요(상대경로,ex:./log/20250613_091920_sample_log_file.log): \").strip()\n",
    "    ipCounter = fileService.loadLogData(logPath)     # 로컬파일 로딩 -> IP 도메인 클래스 반환\n",
    "    print('로그 데이터 불러오기 성공!')\n",
    "    \n",
    "    menu = {\n",
    "        '1': lambda: print(ipCounter.getAllCount()),\n",
    "        '2': lambda: print(ipCounter.getTopCount()),\n",
    "        '3': lambda: fileService.saveLogData(ipCounter),\n",
    "    }\n",
    "\n",
    "    while True:\n",
    "        print('\\n1. IP 추출 및 빈도 계산  | 2. 상위 3개 IP 주소 출력 | 3. 분석 결과 CSV 저장 | 0. 종료')\n",
    "        choice = input('선택: ')\n",
    "        if choice == '0':\n",
    "            print('프로그램을 종료합니다.')\n",
    "            break\n",
    "        action = menu.get(choice)\n",
    "        if action:\n",
    "            action()\n",
    "        else:\n",
    "            print('잘못된 선택입니다.')\n",
    "###############################################\n",
    "\n",
    "# 애플리케이션 실행\n",
    "main()\n"
   ]
  }
 ],
 "metadata": {
  "kernelspec": {
   "display_name": ".venv",
   "language": "python",
   "name": "python3"
  },
  "language_info": {
   "codemirror_mode": {
    "name": "ipython",
    "version": 3
   },
   "file_extension": ".py",
   "mimetype": "text/x-python",
   "name": "python",
   "nbconvert_exporter": "python",
   "pygments_lexer": "ipython3",
   "version": "3.13.4"
  }
 },
 "nbformat": 4,
 "nbformat_minor": 5
}
