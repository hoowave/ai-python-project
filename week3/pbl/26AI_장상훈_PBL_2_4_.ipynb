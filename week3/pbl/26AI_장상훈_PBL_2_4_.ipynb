{
 "cells": [
  {
   "cell_type": "code",
   "execution_count": 17,
   "id": "d7086131",
   "metadata": {},
   "outputs": [],
   "source": [
    "import pandas as pd\n",
    "from sklearn.model_selection import train_test_split\n",
    "from sklearn.linear_model import LogisticRegression\n",
    "from sklearn.metrics import classification_report, accuracy_score"
   ]
  },
  {
   "cell_type": "code",
   "execution_count": 14,
   "id": "f8cda30d",
   "metadata": {},
   "outputs": [
    {
     "name": "stdout",
     "output_type": "stream",
     "text": [
      "파생 변수 hour 생성 완료!\n",
      "파생 변수 is_error 생성 완료!\n"
     ]
    }
   ],
   "source": [
    "# 1. 데이터 로드 및 전처리\n",
    "\n",
    "# CSV 파일 불러오기\n",
    "df = pd.read_csv('web_server_logs_2.csv')\n",
    "\n",
    "# timestamp 컬럼에서 시간(hour)만 추출 (새로운 열 생성)\n",
    "df['hour'] = pd.to_datetime(df['timestamp']).dt.hour\n",
    "print('파생 변수 hour 생성 완료!')\n",
    "\n",
    "# status_code가 400 이상이면 is_error=1, 아니면 0\n",
    "df['is_error'] = df['status_code'].apply(lambda x: 1 if x >= 400 else 0)\n",
    "print('파생 변수 is_error 생성 완료!')"
   ]
  },
  {
   "cell_type": "code",
   "execution_count": 8,
   "id": "40c8e27a",
   "metadata": {},
   "outputs": [],
   "source": [
    "# 2. 특성 선택 및 학습 데이터 분할\n",
    "\n",
    "# 입력 특성(X) → 'hour', 'is_error'\n",
    "X = df[['hour', 'is_error']]\n",
    "\n",
    "# 정답 값(y) → 'label'\n",
    "y = df['label']\n",
    "\n",
    "# 학습용/테스트용 분할 (8:2 비율)\n",
    "X_train, X_test, y_train, y_test = train_test_split(\n",
    "    X,\n",
    "    y,\n",
    "    test_size=0.2,\n",
    "    random_state=42\n",
    ")"
   ]
  },
  {
   "cell_type": "code",
   "execution_count": 10,
   "id": "86b25673",
   "metadata": {},
   "outputs": [],
   "source": [
    "# 3. 모델 학습 및 예측\n",
    "\n",
    "# 로지스틱 회귀 모델 생성 및 학습\n",
    "model = LogisticRegression()\n",
    "model.fit(X_train, y_train)\n",
    "\n",
    "# 테스트 데이터로 예측 수행\n",
    "y_pred = model.predict(X_test)"
   ]
  },
  {
   "cell_type": "code",
   "execution_count": 16,
   "id": "367ebe18",
   "metadata": {},
   "outputs": [
    {
     "name": "stdout",
     "output_type": "stream",
     "text": [
      "정확도: 0.8933\n",
      "상세 평가 보고서:\n",
      "              precision    recall  f1-score   support\n",
      "\n",
      "           0     0.9303    0.9122    0.9212       205\n",
      "           1     0.8182    0.8526    0.8351        95\n",
      "\n",
      "    accuracy                         0.8933       300\n",
      "   macro avg     0.8743    0.8824    0.8781       300\n",
      "weighted avg     0.8948    0.8933    0.8939       300\n",
      "\n"
     ]
    }
   ],
   "source": [
    "# 4. 평가 결과 출력\n",
    "\n",
    "# 정확도\n",
    "accuracy = accuracy_score(y_test, y_pred)\n",
    "print(f\"정확도: {accuracy:.4f}\")\n",
    "\n",
    "# 정밀도, 재현율, F1-score 등 상세 평가\n",
    "print(\"상세 평가 보고서:\")\n",
    "print(classification_report(y_test, y_pred, digits=4))"
   ]
  }
 ],
 "metadata": {
  "kernelspec": {
   "display_name": "Python 3",
   "language": "python",
   "name": "python3"
  },
  "language_info": {
   "codemirror_mode": {
    "name": "ipython",
    "version": 3
   },
   "file_extension": ".py",
   "mimetype": "text/x-python",
   "name": "python",
   "nbconvert_exporter": "python",
   "pygments_lexer": "ipython3",
   "version": "3.13.4"
  }
 },
 "nbformat": 4,
 "nbformat_minor": 5
}
